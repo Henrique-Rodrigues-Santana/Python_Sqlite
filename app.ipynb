{
 "cells": [
  {
   "cell_type": "markdown",
   "metadata": {},
   "source": [
    "## Desenvolvendo conexão Python / SQLite3"
   ]
  },
  {
   "cell_type": "markdown",
   "metadata": {},
   "source": [
    "#### Instalando Biblioteca.\n",
    "`pip install db-sqlite3`"
   ]
  },
  {
   "cell_type": "markdown",
   "metadata": {},
   "source": [
    "#### Importando Biblioteca e Criando o Banco de dados."
   ]
  },
  {
   "cell_type": "code",
   "execution_count": 1,
   "metadata": {},
   "outputs": [],
   "source": [
    "import sqlite3\n",
    "\n",
    "conexao = sqlite3.connect('banco_de_dados.db')"
   ]
  },
  {
   "cell_type": "markdown",
   "metadata": {},
   "source": [
    "#### Criando tabelas no Banco de Dados . \n",
    "##### Aqui temos que instanciar o 'cursor', que fica responsavel por interpretar os comandos sql para a criação e manipulação dos dados no Banco."
   ]
  },
  {
   "cell_type": "code",
   "execution_count": 2,
   "metadata": {},
   "outputs": [],
   "source": [
    "cursor = conexao.cursor()"
   ]
  },
  {
   "cell_type": "markdown",
   "metadata": {},
   "source": [
    "##### Agora ultilizaremos os métodos do cursor para executar comando sql, nesse caso useramos o 'execute()' para criar uma tabela de nome 'pessoa' com as seguintes colunas : Nome com o tipo text(Texto), idade do tipo integer(inteiro) e email do tipo texto tb. "
   ]
  },
  {
   "cell_type": "code",
   "execution_count": 3,
   "metadata": {},
   "outputs": [
    {
     "data": {
      "text/plain": [
       "<sqlite3.Cursor at 0x19db586d1c0>"
      ]
     },
     "execution_count": 3,
     "metadata": {},
     "output_type": "execute_result"
    }
   ],
   "source": [
    "cursor.execute(\"CREATE TABLE pessoas (nome text,idade integer, email text)\")"
   ]
  },
  {
   "cell_type": "markdown",
   "metadata": {},
   "source": [
    "#### Agora vamos conferir se a tabela voi criada "
   ]
  },
  {
   "cell_type": "code",
   "execution_count": 9,
   "metadata": {},
   "outputs": [
    {
     "data": {
      "text/plain": [
       "('pessoas',)"
      ]
     },
     "execution_count": 9,
     "metadata": {},
     "output_type": "execute_result"
    }
   ],
   "source": [
    "resposta = cursor.execute(\"SELECT name FROM sqlite_master\")\n",
    "resposta.fetchone() # método que retorna a primeira linah do resultado"
   ]
  },
  {
   "cell_type": "markdown",
   "metadata": {},
   "source": [
    "#### Agora vamos inserir dados na tabela, os dados devem ser inseridos na ordem que foi estabelecida na criação da tabela."
   ]
  },
  {
   "cell_type": "code",
   "execution_count": 15,
   "metadata": {},
   "outputs": [],
   "source": [
    "nome = \"Manuel\"\n",
    "idade = 35\n",
    "email = \"maria@gmail.com\"\n",
    "\n",
    "cursor.execute( \"INSERT INTO pessoas (nome, idade, email) VALUES(?, ?, ?)\",(nome, idade, email))\n",
    "\n",
    "conexao.commit()\n"
   ]
  },
  {
   "cell_type": "markdown",
   "metadata": {},
   "source": [
    "#### Vamos verificar os valores da tabela criada."
   ]
  },
  {
   "cell_type": "code",
   "execution_count": 18,
   "metadata": {},
   "outputs": [
    {
     "data": {
      "text/plain": [
       "[('Maria',),\n",
       " ('Maria',),\n",
       " ('Maria',),\n",
       " ('Maria',),\n",
       " ('Manuel',),\n",
       " ('Fernando',),\n",
       " ('Maria',),\n",
       " ('João',)]"
      ]
     },
     "execution_count": 18,
     "metadata": {},
     "output_type": "execute_result"
    }
   ],
   "source": [
    "resposta = cursor.execute(\"SELECT nome FROM pessoas\")\n",
    "resposta.fetchall()\n"
   ]
  },
  {
   "cell_type": "markdown",
   "metadata": {},
   "source": [
    "#### Agora vamos adicionar uma tupla compelta de registros de pessoas no banco de dados.\n",
    "\n",
    "##### O comando \"executemany\" ele insere multiplos registro de uma só vez ultilizando os dados da tupla.\n",
    "\n"
   ]
  },
  {
   "cell_type": "code",
   "execution_count": 17,
   "metadata": {},
   "outputs": [],
   "source": [
    "dados_pessoas = [\n",
    "    (\"Fernando\", 55, \"fernando@gmail.com\"),\n",
    "    (\"Maria\", 35, \"maria@gmail.com\"),\n",
    "    (\"João\", 45, \"joao@gmail.com\"),\n",
    "]\n",
    "\n",
    "cursor.executemany(\"INSERT INTO pessoas (nome,idade,email) VALUES(?,?,?)\", dados_pessoas)\n",
    "\n",
    "conexao.commit()"
   ]
  }
 ],
 "metadata": {
  "kernelspec": {
   "display_name": "apk-01",
   "language": "python",
   "name": "python3"
  },
  "language_info": {
   "codemirror_mode": {
    "name": "ipython",
    "version": 3
   },
   "file_extension": ".py",
   "mimetype": "text/x-python",
   "name": "python",
   "nbconvert_exporter": "python",
   "pygments_lexer": "ipython3",
   "version": "3.12.3"
  }
 },
 "nbformat": 4,
 "nbformat_minor": 2
}
